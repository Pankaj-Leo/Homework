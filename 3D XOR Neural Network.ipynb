{
  "nbformat": 4,
  "nbformat_minor": 0,
  "metadata": {
    "colab": {
      "provenance": [],
      "authorship_tag": "ABX9TyOg1TYN51NiDefYdZEQ6UiZ",
      "include_colab_link": true
    },
    "kernelspec": {
      "name": "python3",
      "display_name": "Python 3"
    },
    "language_info": {
      "name": "python"
    }
  },
  "cells": [
    {
      "cell_type": "markdown",
      "metadata": {
        "id": "view-in-github",
        "colab_type": "text"
      },
      "source": [
        "<a href=\"https://colab.research.google.com/github/pankaj-babban/Homework/blob/master/3D%20XOR%20Neural%20Network.ipynb\" target=\"_parent\"><img src=\"https://colab.research.google.com/assets/colab-badge.svg\" alt=\"Open In Colab\"/></a>"
      ]
    },
    {
      "cell_type": "code",
      "execution_count": 5,
      "metadata": {
        "colab": {
          "base_uri": "https://localhost:8080/"
        },
        "id": "QpwuTl19EhDh",
        "outputId": "6a0f2ce8-b4cb-49fa-cb79-0091100eb768"
      },
      
      "source": [
        "import numpy as np\n",
        "import keras\n",
        "import tensorflow as tf\n",
        "from keras import layers\n",
        "\n",
        "# Input data for the three-bit parity problem\n",
        "data = np.array([[0, 0, 0], [0, 0, 1], [0, 1, 0], [0, 1, 1],\n",
        "                 [1, 0, 0], [1, 0, 1], [1, 1, 0], [1, 1, 1]])\n",
        "# Labels for the three-bit parity problem\n",
        "label = np.array([0, 1, 1, 0, 1, 0, 0, 1])\n",
        "\n",
        "# Number of hidden nodes\n",
        "hiddennodes = 3\n",
        "\n",
        "# Create a Keras model for the three-bit parity problem\n",
        "initializer = tf.keras.initializers.RandomUniform(minval=-0.5, maxval=0.5, seed=7)\n",
        "\n",
        "# Define the input layer with 3 nodes\n",
        "input_layer = keras.Input(shape=(3,))\n",
        "\n",
        "# Hidden layer with 3 nodes and sigmoid activation\n",
        "hidden_layer = layers.Dense(hiddennodes, activation='sigmoid', kernel_initializer=initializer)(input_layer)\n",
        "\n",
        "# Output layer with 1 node and sigmoid activation\n",
        "output_layer = layers.Dense(1, activation='sigmoid', kernel_initializer=initializer)(hidden_layer)\n",
        "\n",
        "# Create the model\n",
        "parity_model = keras.Model(input_layer, output_layer)\n",
        "\n",
        "# Compile the model\n",
        "optimizer = keras.optimizers.Adam(learning_rate=0.05)\n",
        "parity_model.compile(optimizer=optimizer, loss='mean_squared_error')\n",
        "\n",
        "# Train the model\n",
        "parity_model.fit(data, label,\n",
        "                 epochs=1500,\n",
        "                 batch_size=1,\n",
        "                 shuffle=True,\n",
        "                 validation_data=(data, label))\n",
        "\n",
        "# Predictions for the three-bit parity problem\n",
        "predictions = parity_model.predict(data)\n",
        "print(\"Predictions:\")\n",
        "print(predictions)\n",
        "\n",
        "# Get the activations of the hidden layer for the input data\n",
        "hidden_layer_activations = keras.Model(inputs=input_layer, outputs=hidden_layer).predict(data)\n",
        "\n",
        "print(\"\\nHidden Layer Activations:\")\n",
        "print(hidden_layer_activations)\n",
        "\n",
        "\n"
      ]
    }
  ]
}
